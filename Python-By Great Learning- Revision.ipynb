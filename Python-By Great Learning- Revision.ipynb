{
 "cells": [
  {
   "cell_type": "markdown",
   "id": "24b1a115",
   "metadata": {},
   "source": [
    "## Python-By Great Learning- Revision"
   ]
  },
  {
   "cell_type": "markdown",
   "id": "3471a4c4",
   "metadata": {},
   "source": [
    "### Strings basics:"
   ]
  },
  {
   "cell_type": "code",
   "execution_count": 1,
   "id": "91b8d1cf",
   "metadata": {},
   "outputs": [],
   "source": [
    "string=\"My name is Khan\""
   ]
  },
  {
   "cell_type": "code",
   "execution_count": 2,
   "id": "3e555237",
   "metadata": {},
   "outputs": [
    {
     "data": {
      "text/plain": [
       "15"
      ]
     },
     "execution_count": 2,
     "metadata": {},
     "output_type": "execute_result"
    }
   ],
   "source": [
    "len(string)"
   ]
  },
  {
   "cell_type": "code",
   "execution_count": 3,
   "id": "6114ed04",
   "metadata": {},
   "outputs": [
    {
     "data": {
      "text/plain": [
       "' '"
      ]
     },
     "execution_count": 3,
     "metadata": {},
     "output_type": "execute_result"
    }
   ],
   "source": [
    "string[2]"
   ]
  },
  {
   "cell_type": "code",
   "execution_count": 4,
   "id": "93d0e767",
   "metadata": {},
   "outputs": [
    {
     "data": {
      "text/plain": [
       "'name'"
      ]
     },
     "execution_count": 4,
     "metadata": {},
     "output_type": "execute_result"
    }
   ],
   "source": [
    "string[3:7]"
   ]
  },
  {
   "cell_type": "code",
   "execution_count": 5,
   "id": "b80616bb",
   "metadata": {},
   "outputs": [
    {
     "data": {
      "text/plain": [
       "'my name is khan'"
      ]
     },
     "execution_count": 5,
     "metadata": {},
     "output_type": "execute_result"
    }
   ],
   "source": [
    "string.lower()"
   ]
  },
  {
   "cell_type": "code",
   "execution_count": 6,
   "id": "d31c80c8",
   "metadata": {},
   "outputs": [
    {
     "data": {
      "text/plain": [
       "'MY NAME IS KHAN'"
      ]
     },
     "execution_count": 6,
     "metadata": {},
     "output_type": "execute_result"
    }
   ],
   "source": [
    "string.upper()"
   ]
  },
  {
   "cell_type": "code",
   "execution_count": 7,
   "id": "1df7bfbb",
   "metadata": {},
   "outputs": [
    {
     "data": {
      "text/plain": [
       "'My name is Khan'"
      ]
     },
     "execution_count": 7,
     "metadata": {},
     "output_type": "execute_result"
    }
   ],
   "source": [
    "string"
   ]
  },
  {
   "cell_type": "code",
   "execution_count": 8,
   "id": "e7cc39bf",
   "metadata": {},
   "outputs": [
    {
     "data": {
      "text/plain": [
       "'My name is Ravi'"
      ]
     },
     "execution_count": 8,
     "metadata": {},
     "output_type": "execute_result"
    }
   ],
   "source": [
    "string.replace('Khan','Ravi')"
   ]
  },
  {
   "cell_type": "code",
   "execution_count": 9,
   "id": "196f13d6",
   "metadata": {},
   "outputs": [
    {
     "data": {
      "text/plain": [
       "'My name is Khan'"
      ]
     },
     "execution_count": 9,
     "metadata": {},
     "output_type": "execute_result"
    }
   ],
   "source": [
    "string"
   ]
  },
  {
   "cell_type": "code",
   "execution_count": 10,
   "id": "04a62b8b",
   "metadata": {},
   "outputs": [
    {
     "data": {
      "text/plain": [
       "1"
      ]
     },
     "execution_count": 10,
     "metadata": {},
     "output_type": "execute_result"
    }
   ],
   "source": [
    "string.count('Khan')"
   ]
  },
  {
   "cell_type": "code",
   "execution_count": 11,
   "id": "c3576b64",
   "metadata": {},
   "outputs": [
    {
     "data": {
      "text/plain": [
       "11"
      ]
     },
     "execution_count": 11,
     "metadata": {},
     "output_type": "execute_result"
    }
   ],
   "source": [
    "string.find('Khan')"
   ]
  },
  {
   "cell_type": "code",
   "execution_count": 12,
   "id": "66bcbd83",
   "metadata": {},
   "outputs": [],
   "source": [
    "string1= \"Apple,Mango,Banana\""
   ]
  },
  {
   "cell_type": "code",
   "execution_count": 13,
   "id": "c2e4f9d2",
   "metadata": {},
   "outputs": [
    {
     "data": {
      "text/plain": [
       "['Apple', 'Mango', 'Banana']"
      ]
     },
     "execution_count": 13,
     "metadata": {},
     "output_type": "execute_result"
    }
   ],
   "source": [
    "string1.split(',')"
   ]
  },
  {
   "cell_type": "markdown",
   "id": "2025d1b2",
   "metadata": {},
   "source": [
    "### Tuples:"
   ]
  },
  {
   "cell_type": "code",
   "execution_count": 14,
   "id": "817517b2",
   "metadata": {},
   "outputs": [],
   "source": [
    "tuple=(11,\"Apple\",True)"
   ]
  },
  {
   "cell_type": "code",
   "execution_count": 15,
   "id": "c38835ff",
   "metadata": {},
   "outputs": [
    {
     "data": {
      "text/plain": [
       "3"
      ]
     },
     "execution_count": 15,
     "metadata": {},
     "output_type": "execute_result"
    }
   ],
   "source": [
    "len(tuple)"
   ]
  },
  {
   "cell_type": "code",
   "execution_count": 16,
   "id": "77f0f8e3",
   "metadata": {},
   "outputs": [
    {
     "data": {
      "text/plain": [
       "(11, 'Apple', True, 11, 'Apple', True)"
      ]
     },
     "execution_count": 16,
     "metadata": {},
     "output_type": "execute_result"
    }
   ],
   "source": [
    "tuple+tuple"
   ]
  },
  {
   "cell_type": "code",
   "execution_count": 17,
   "id": "19630e7d",
   "metadata": {},
   "outputs": [
    {
     "data": {
      "text/plain": [
       "(11, 'Apple', True, 11, 'Apple', True, 11, 'Apple', True)"
      ]
     },
     "execution_count": 17,
     "metadata": {},
     "output_type": "execute_result"
    }
   ],
   "source": [
    "tuple*3"
   ]
  },
  {
   "cell_type": "code",
   "execution_count": 18,
   "id": "52118cf1",
   "metadata": {},
   "outputs": [
    {
     "data": {
      "text/plain": [
       "(11, 'Apple', True, 11, 'Apple', True, 11, 'Apple', True)"
      ]
     },
     "execution_count": 18,
     "metadata": {},
     "output_type": "execute_result"
    }
   ],
   "source": [
    "tuple*2+tuple"
   ]
  },
  {
   "cell_type": "code",
   "execution_count": 19,
   "id": "22ccafae",
   "metadata": {},
   "outputs": [],
   "source": [
    "tuple1=(2,34,55)"
   ]
  },
  {
   "cell_type": "code",
   "execution_count": 20,
   "id": "c261e885",
   "metadata": {},
   "outputs": [
    {
     "data": {
      "text/plain": [
       "2"
      ]
     },
     "execution_count": 20,
     "metadata": {},
     "output_type": "execute_result"
    }
   ],
   "source": [
    "min(tuple1)"
   ]
  },
  {
   "cell_type": "code",
   "execution_count": 21,
   "id": "1603e7d1",
   "metadata": {},
   "outputs": [
    {
     "data": {
      "text/plain": [
       "55"
      ]
     },
     "execution_count": 21,
     "metadata": {},
     "output_type": "execute_result"
    }
   ],
   "source": [
    "max(tuple1)"
   ]
  },
  {
   "cell_type": "markdown",
   "id": "0b91cd5a",
   "metadata": {},
   "source": [
    "### Lists:"
   ]
  },
  {
   "cell_type": "code",
   "execution_count": 22,
   "id": "7b27cbc2",
   "metadata": {},
   "outputs": [],
   "source": [
    "list=[22,'Guava',True]"
   ]
  },
  {
   "cell_type": "code",
   "execution_count": 23,
   "id": "6eee75fe",
   "metadata": {},
   "outputs": [
    {
     "data": {
      "text/plain": [
       "3"
      ]
     },
     "execution_count": 23,
     "metadata": {},
     "output_type": "execute_result"
    }
   ],
   "source": [
    "len(list)"
   ]
  },
  {
   "cell_type": "code",
   "execution_count": 24,
   "id": "72548ecd",
   "metadata": {},
   "outputs": [
    {
     "data": {
      "text/plain": [
       "True"
      ]
     },
     "execution_count": 24,
     "metadata": {},
     "output_type": "execute_result"
    }
   ],
   "source": [
    "list[2]"
   ]
  },
  {
   "cell_type": "code",
   "execution_count": 25,
   "id": "40c2b1cf",
   "metadata": {},
   "outputs": [
    {
     "data": {
      "text/plain": [
       "[22, 'Mango', True]"
      ]
     },
     "execution_count": 25,
     "metadata": {},
     "output_type": "execute_result"
    }
   ],
   "source": [
    "list[1]=\"Mango\"\n",
    "list"
   ]
  },
  {
   "cell_type": "code",
   "execution_count": 26,
   "id": "45718de8",
   "metadata": {},
   "outputs": [
    {
     "data": {
      "text/plain": [
       "22"
      ]
     },
     "execution_count": 26,
     "metadata": {},
     "output_type": "execute_result"
    }
   ],
   "source": [
    "list.pop(0)"
   ]
  },
  {
   "cell_type": "code",
   "execution_count": 27,
   "id": "f8ec5167",
   "metadata": {},
   "outputs": [
    {
     "data": {
      "text/plain": [
       "['Mango', True]"
      ]
     },
     "execution_count": 27,
     "metadata": {},
     "output_type": "execute_result"
    }
   ],
   "source": [
    "list"
   ]
  },
  {
   "cell_type": "code",
   "execution_count": 28,
   "id": "c9019064",
   "metadata": {},
   "outputs": [],
   "source": [
    "list.append(0)"
   ]
  },
  {
   "cell_type": "code",
   "execution_count": 29,
   "id": "8f22c1ce",
   "metadata": {},
   "outputs": [
    {
     "data": {
      "text/plain": [
       "['Mango', True, 0]"
      ]
     },
     "execution_count": 29,
     "metadata": {},
     "output_type": "execute_result"
    }
   ],
   "source": [
    "list"
   ]
  },
  {
   "cell_type": "code",
   "execution_count": 30,
   "id": "aa204ddb",
   "metadata": {},
   "outputs": [],
   "source": [
    "list.reverse()"
   ]
  },
  {
   "cell_type": "code",
   "execution_count": 31,
   "id": "8b297f04",
   "metadata": {},
   "outputs": [
    {
     "data": {
      "text/plain": [
       "[0, True, 'Mango']"
      ]
     },
     "execution_count": 31,
     "metadata": {},
     "output_type": "execute_result"
    }
   ],
   "source": [
    "list"
   ]
  },
  {
   "cell_type": "code",
   "execution_count": 32,
   "id": "95fc7f8f",
   "metadata": {},
   "outputs": [],
   "source": [
    "list.insert(1,False)"
   ]
  },
  {
   "cell_type": "code",
   "execution_count": 33,
   "id": "ae3e244c",
   "metadata": {},
   "outputs": [
    {
     "data": {
      "text/plain": [
       "[0, False, True, 'Mango']"
      ]
     },
     "execution_count": 33,
     "metadata": {},
     "output_type": "execute_result"
    }
   ],
   "source": [
    "list"
   ]
  },
  {
   "cell_type": "code",
   "execution_count": 34,
   "id": "487d8813",
   "metadata": {},
   "outputs": [],
   "source": [
    "list1=['Zebra','Monkey','Camel','Fox']"
   ]
  },
  {
   "cell_type": "code",
   "execution_count": 35,
   "id": "8d9e28fd",
   "metadata": {},
   "outputs": [
    {
     "data": {
      "text/plain": [
       "['Zebra', 'Monkey', 'Camel', 'Fox']"
      ]
     },
     "execution_count": 35,
     "metadata": {},
     "output_type": "execute_result"
    }
   ],
   "source": [
    "list1"
   ]
  },
  {
   "cell_type": "code",
   "execution_count": 36,
   "id": "ee01cc67",
   "metadata": {},
   "outputs": [],
   "source": [
    "list1.sort()"
   ]
  },
  {
   "cell_type": "code",
   "execution_count": 37,
   "id": "4d95b4d8",
   "metadata": {},
   "outputs": [
    {
     "data": {
      "text/plain": [
       "['Camel', 'Fox', 'Monkey', 'Zebra']"
      ]
     },
     "execution_count": 37,
     "metadata": {},
     "output_type": "execute_result"
    }
   ],
   "source": [
    "list1"
   ]
  },
  {
   "cell_type": "code",
   "execution_count": 38,
   "id": "8a4ef2ce",
   "metadata": {},
   "outputs": [
    {
     "data": {
      "text/plain": [
       "[0, False, True, 'Mango', 'Camel', 'Fox', 'Monkey', 'Zebra']"
      ]
     },
     "execution_count": 38,
     "metadata": {},
     "output_type": "execute_result"
    }
   ],
   "source": [
    "list+list1"
   ]
  },
  {
   "cell_type": "code",
   "execution_count": 39,
   "id": "a074968f",
   "metadata": {},
   "outputs": [
    {
     "data": {
      "text/plain": [
       "[0, False, True, 'Mango', 0, False, True, 'Mango']"
      ]
     },
     "execution_count": 39,
     "metadata": {},
     "output_type": "execute_result"
    }
   ],
   "source": [
    "list*2"
   ]
  },
  {
   "cell_type": "markdown",
   "id": "5e7c17e4",
   "metadata": {},
   "source": [
    "### Dictionary:"
   ]
  },
  {
   "cell_type": "code",
   "execution_count": 40,
   "id": "11d682ae",
   "metadata": {},
   "outputs": [],
   "source": [
    "Dict={'Apple':25,'Mango':10,'Guava':15}"
   ]
  },
  {
   "cell_type": "code",
   "execution_count": 41,
   "id": "1580affd",
   "metadata": {},
   "outputs": [
    {
     "data": {
      "text/plain": [
       "{'Apple': 25, 'Mango': 10, 'Guava': 15}"
      ]
     },
     "execution_count": 41,
     "metadata": {},
     "output_type": "execute_result"
    }
   ],
   "source": [
    "Dict"
   ]
  },
  {
   "cell_type": "code",
   "execution_count": 42,
   "id": "64245a19",
   "metadata": {},
   "outputs": [
    {
     "data": {
      "text/plain": [
       "dict_keys(['Apple', 'Mango', 'Guava'])"
      ]
     },
     "execution_count": 42,
     "metadata": {},
     "output_type": "execute_result"
    }
   ],
   "source": [
    "Dict.keys()"
   ]
  },
  {
   "cell_type": "code",
   "execution_count": 43,
   "id": "d636c63a",
   "metadata": {},
   "outputs": [
    {
     "data": {
      "text/plain": [
       "dict_values([25, 10, 15])"
      ]
     },
     "execution_count": 43,
     "metadata": {},
     "output_type": "execute_result"
    }
   ],
   "source": [
    "Dict.values()"
   ]
  },
  {
   "cell_type": "code",
   "execution_count": 44,
   "id": "18fa081c",
   "metadata": {},
   "outputs": [
    {
     "data": {
      "text/plain": [
       "dict_items([('Apple', 25), ('Mango', 10), ('Guava', 15)])"
      ]
     },
     "execution_count": 44,
     "metadata": {},
     "output_type": "execute_result"
    }
   ],
   "source": [
    "Dict.items()"
   ]
  },
  {
   "cell_type": "code",
   "execution_count": 45,
   "id": "5b62b7cd",
   "metadata": {},
   "outputs": [],
   "source": [
    "Dict['Pappaya']=5"
   ]
  },
  {
   "cell_type": "code",
   "execution_count": 46,
   "id": "0f33e6d4",
   "metadata": {},
   "outputs": [
    {
     "data": {
      "text/plain": [
       "{'Apple': 25, 'Mango': 10, 'Guava': 15, 'Pappaya': 5}"
      ]
     },
     "execution_count": 46,
     "metadata": {},
     "output_type": "execute_result"
    }
   ],
   "source": [
    "Dict"
   ]
  },
  {
   "cell_type": "code",
   "execution_count": 47,
   "id": "ccf2bbfe",
   "metadata": {},
   "outputs": [],
   "source": [
    "Dict['Pappaya']=8"
   ]
  },
  {
   "cell_type": "code",
   "execution_count": 48,
   "id": "38798cf4",
   "metadata": {},
   "outputs": [
    {
     "data": {
      "text/plain": [
       "{'Apple': 25, 'Mango': 10, 'Guava': 15, 'Pappaya': 8}"
      ]
     },
     "execution_count": 48,
     "metadata": {},
     "output_type": "execute_result"
    }
   ],
   "source": [
    "Dict"
   ]
  },
  {
   "cell_type": "code",
   "execution_count": 49,
   "id": "df08ec48",
   "metadata": {},
   "outputs": [],
   "source": [
    "Dict1={'Chikku':25,'Dragon Fruit':35}"
   ]
  },
  {
   "cell_type": "code",
   "execution_count": 50,
   "id": "bec049fe",
   "metadata": {},
   "outputs": [],
   "source": [
    "Dict.update(Dict1)"
   ]
  },
  {
   "cell_type": "code",
   "execution_count": 51,
   "id": "b0764a83",
   "metadata": {},
   "outputs": [
    {
     "data": {
      "text/plain": [
       "{'Apple': 25,\n",
       " 'Mango': 10,\n",
       " 'Guava': 15,\n",
       " 'Pappaya': 8,\n",
       " 'Chikku': 25,\n",
       " 'Dragon Fruit': 35}"
      ]
     },
     "execution_count": 51,
     "metadata": {},
     "output_type": "execute_result"
    }
   ],
   "source": [
    "Dict"
   ]
  },
  {
   "cell_type": "code",
   "execution_count": 52,
   "id": "75e3cd99",
   "metadata": {},
   "outputs": [
    {
     "data": {
      "text/plain": [
       "25"
      ]
     },
     "execution_count": 52,
     "metadata": {},
     "output_type": "execute_result"
    }
   ],
   "source": [
    "Dict.pop('Apple')"
   ]
  },
  {
   "cell_type": "code",
   "execution_count": 53,
   "id": "8137625c",
   "metadata": {},
   "outputs": [
    {
     "data": {
      "text/plain": [
       "{'Mango': 10, 'Guava': 15, 'Pappaya': 8, 'Chikku': 25, 'Dragon Fruit': 35}"
      ]
     },
     "execution_count": 53,
     "metadata": {},
     "output_type": "execute_result"
    }
   ],
   "source": [
    "Dict"
   ]
  },
  {
   "cell_type": "markdown",
   "id": "f3d2011e",
   "metadata": {},
   "source": [
    "### Set:"
   ]
  },
  {
   "cell_type": "code",
   "execution_count": 54,
   "id": "22b0ea06",
   "metadata": {},
   "outputs": [],
   "source": [
    "set={1,'Apple',False}"
   ]
  },
  {
   "cell_type": "code",
   "execution_count": 55,
   "id": "e361bab4",
   "metadata": {},
   "outputs": [],
   "source": [
    "set.add(\"Mango\")"
   ]
  },
  {
   "cell_type": "code",
   "execution_count": 56,
   "id": "cb98947e",
   "metadata": {},
   "outputs": [
    {
     "data": {
      "text/plain": [
       "{1, 'Apple', False, 'Mango'}"
      ]
     },
     "execution_count": 56,
     "metadata": {},
     "output_type": "execute_result"
    }
   ],
   "source": [
    "set"
   ]
  },
  {
   "cell_type": "code",
   "execution_count": 57,
   "id": "fd3daf49",
   "metadata": {},
   "outputs": [],
   "source": [
    "set.update([10,20])"
   ]
  },
  {
   "cell_type": "code",
   "execution_count": 58,
   "id": "b3327818",
   "metadata": {},
   "outputs": [
    {
     "data": {
      "text/plain": [
       "{1, 10, 20, 'Apple', False, 'Mango'}"
      ]
     },
     "execution_count": 58,
     "metadata": {},
     "output_type": "execute_result"
    }
   ],
   "source": [
    "set"
   ]
  },
  {
   "cell_type": "code",
   "execution_count": 59,
   "id": "0490947f",
   "metadata": {},
   "outputs": [],
   "source": [
    "set.remove(False)"
   ]
  },
  {
   "cell_type": "code",
   "execution_count": 60,
   "id": "73266f8f",
   "metadata": {},
   "outputs": [
    {
     "data": {
      "text/plain": [
       "{1, 10, 20, 'Apple', 'Mango'}"
      ]
     },
     "execution_count": 60,
     "metadata": {},
     "output_type": "execute_result"
    }
   ],
   "source": [
    "set"
   ]
  },
  {
   "cell_type": "code",
   "execution_count": 61,
   "id": "6b00a606",
   "metadata": {},
   "outputs": [],
   "source": [
    "set1={'Elephant',\"Zebra\",\"Apple\"}"
   ]
  },
  {
   "cell_type": "code",
   "execution_count": 62,
   "id": "6f517b8e",
   "metadata": {},
   "outputs": [
    {
     "data": {
      "text/plain": [
       "{1, 10, 20, 'Apple', 'Elephant', 'Mango', 'Zebra'}"
      ]
     },
     "execution_count": 62,
     "metadata": {},
     "output_type": "execute_result"
    }
   ],
   "source": [
    "set.union(set1)"
   ]
  },
  {
   "cell_type": "code",
   "execution_count": 63,
   "id": "d31d6ae3",
   "metadata": {},
   "outputs": [
    {
     "data": {
      "text/plain": [
       "{'Apple'}"
      ]
     },
     "execution_count": 63,
     "metadata": {},
     "output_type": "execute_result"
    }
   ],
   "source": [
    "set.intersection(set1)"
   ]
  },
  {
   "cell_type": "markdown",
   "id": "77ba3581",
   "metadata": {},
   "source": [
    "## Basic Programming Syntaxs"
   ]
  },
  {
   "cell_type": "markdown",
   "id": "5d849cff",
   "metadata": {},
   "source": [
    "### if Statement:"
   ]
  },
  {
   "cell_type": "code",
   "execution_count": 64,
   "id": "5187cc32",
   "metadata": {},
   "outputs": [
    {
     "name": "stdout",
     "output_type": "stream",
     "text": [
      "b is greater than a\n"
     ]
    }
   ],
   "source": [
    "# Greater items between a & b :\n",
    "\n",
    "a=10\n",
    "b=25\n",
    "\n",
    "if a>b:\n",
    "    print(\"a is greater than b\")\n",
    "else:\n",
    "    print(\"b is greater than a\")"
   ]
  },
  {
   "cell_type": "code",
   "execution_count": 65,
   "id": "1e549ac7",
   "metadata": {},
   "outputs": [
    {
     "name": "stdout",
     "output_type": "stream",
     "text": [
      "6 is not in the tup\n"
     ]
    }
   ],
   "source": [
    "# if statement for Tuples:\n",
    "\n",
    "tup=(1,2,3,4,5)\n",
    "\n",
    "if 6 in tup:\n",
    "    print(\"6 is in the tup\")\n",
    "else:\n",
    "    print(\"6 is not in the tup\")"
   ]
  },
  {
   "cell_type": "code",
   "execution_count": 66,
   "id": "19ba9901",
   "metadata": {},
   "outputs": [
    {
     "data": {
      "text/plain": [
       "[1, 102, 3, 4, 5]"
      ]
     },
     "execution_count": 66,
     "metadata": {},
     "output_type": "execute_result"
    }
   ],
   "source": [
    "# if statement for List:\n",
    "\n",
    "list=[1,2,3,4,5]\n",
    "\n",
    "if list[1]==2:\n",
    "    list[1]=list[1]+100\n",
    "    \n",
    "list"
   ]
  },
  {
   "cell_type": "code",
   "execution_count": 67,
   "id": "5d671c04",
   "metadata": {},
   "outputs": [
    {
     "data": {
      "text/plain": [
       "{'Apple': 25, 'Mango': 15, 'Orange': 15}"
      ]
     },
     "execution_count": 67,
     "metadata": {},
     "output_type": "execute_result"
    }
   ],
   "source": [
    "# if statement for Dictionary:\n",
    "\n",
    "d={'Apple':25,'Mango':15,'Orange':10}\n",
    "\n",
    "if d[\"Apple\"]==25:\n",
    "    d['Orange']=d['Orange']+5\n",
    "\n",
    "d\n"
   ]
  },
  {
   "cell_type": "markdown",
   "id": "e3eb46a2",
   "metadata": {},
   "source": [
    "### elif Statement:"
   ]
  },
  {
   "cell_type": "code",
   "execution_count": 68,
   "id": "8f61683e",
   "metadata": {},
   "outputs": [
    {
     "name": "stdout",
     "output_type": "stream",
     "text": [
      "c is greater than b & a\n"
     ]
    }
   ],
   "source": [
    "# Greater items between a, b & c :\n",
    "\n",
    "a=10\n",
    "b=25\n",
    "c=30\n",
    "\n",
    "if a>b & a>c:\n",
    "    print(\"a is greater than a & b\")\n",
    "elif b>a & b>c:\n",
    "    print(\"b is greater than c & a\")\n",
    "else:\n",
    "    print(\"c is greater than b & a\")"
   ]
  },
  {
   "cell_type": "markdown",
   "id": "e9f314ff",
   "metadata": {},
   "source": [
    "### while loop Statement:"
   ]
  },
  {
   "cell_type": "code",
   "execution_count": 69,
   "id": "26670596",
   "metadata": {},
   "outputs": [
    {
     "name": "stdout",
     "output_type": "stream",
     "text": [
      "1\n",
      "2\n",
      "3\n",
      "4\n",
      "5\n",
      "6\n",
      "7\n",
      "8\n",
      "9\n",
      "10\n"
     ]
    }
   ],
   "source": [
    "# Printing 1 to 10 numbers:\n",
    "\n",
    "i=1\n",
    "while i<=10:\n",
    "    print(i)\n",
    "    i=i+1\n",
    "    "
   ]
  },
  {
   "cell_type": "code",
   "execution_count": 70,
   "id": "e4e474b2",
   "metadata": {},
   "outputs": [
    {
     "name": "stdout",
     "output_type": "stream",
     "text": [
      "2 * 1 = 2\n",
      "2 * 2 = 4\n",
      "2 * 3 = 6\n",
      "2 * 4 = 8\n",
      "2 * 5 = 10\n",
      "2 * 6 = 12\n",
      "2 * 7 = 14\n",
      "2 * 8 = 16\n",
      "2 * 9 = 18\n",
      "2 * 10 = 20\n"
     ]
    }
   ],
   "source": [
    "# Printing 2's Table:\n",
    "\n",
    "i=1\n",
    "n=2\n",
    "\n",
    "while i<=10:\n",
    "    print(n, \"*\", i, \"=\", n*i )\n",
    "    i=i+1\n"
   ]
  },
  {
   "cell_type": "code",
   "execution_count": 71,
   "id": "1de9703d",
   "metadata": {},
   "outputs": [
    {
     "data": {
      "text/plain": [
       "[101, 102, 103, 104, 105]"
      ]
     },
     "execution_count": 71,
     "metadata": {},
     "output_type": "execute_result"
    }
   ],
   "source": [
    "# while loop statement for List:\n",
    "\n",
    "list=[1,2,3,4,5]\n",
    "i=0\n",
    "\n",
    "while i<len(list):\n",
    "    list[i]=list[i]+100\n",
    "    i=i+1\n",
    "\n",
    "list"
   ]
  },
  {
   "cell_type": "markdown",
   "id": "0c79f6ff",
   "metadata": {},
   "source": [
    "### for loop Statement:"
   ]
  },
  {
   "cell_type": "code",
   "execution_count": 72,
   "id": "74051613",
   "metadata": {},
   "outputs": [
    {
     "name": "stdout",
     "output_type": "stream",
     "text": [
      "Apple\n",
      "Mango\n",
      "Orange\n",
      "Banana\n"
     ]
    }
   ],
   "source": [
    "# Printing items listed:\n",
    "\n",
    "Fruits=[\"Apple\",\"Mango\",\"Orange\",\"Banana\"]\n",
    "\n",
    "for i in Fruits:\n",
    "    print(i)"
   ]
  },
  {
   "cell_type": "markdown",
   "id": "61094a55",
   "metadata": {},
   "source": [
    "### nested for loop Statement:"
   ]
  },
  {
   "cell_type": "code",
   "execution_count": 73,
   "id": "79b0b2e3",
   "metadata": {},
   "outputs": [
    {
     "name": "stdout",
     "output_type": "stream",
     "text": [
      "Apple Monkey\n",
      "Apple Tiger\n",
      "Apple Fox\n",
      "Mango Monkey\n",
      "Mango Tiger\n",
      "Mango Fox\n",
      "Orange Monkey\n",
      "Orange Tiger\n",
      "Orange Fox\n",
      "Banana Monkey\n",
      "Banana Tiger\n",
      "Banana Fox\n"
     ]
    }
   ],
   "source": [
    "# Printing items in combinations listed:\n",
    "\n",
    "Fruits=[\"Apple\",\"Mango\",\"Orange\",\"Banana\"]\n",
    "Animals=[\"Monkey\",\"Tiger\",\"Fox\"]\n",
    "\n",
    "for i in Fruits:\n",
    "    for j in Animals:\n",
    "        print(i,j)\n",
    "    "
   ]
  },
  {
   "cell_type": "markdown",
   "id": "6c1c5f1c",
   "metadata": {},
   "source": [
    "## Python Basic Problems:"
   ]
  },
  {
   "cell_type": "code",
   "execution_count": 74,
   "id": "79582508",
   "metadata": {},
   "outputs": [
    {
     "name": "stdout",
     "output_type": "stream",
     "text": [
      "Enter the number: 5\n",
      "Number is Odd\n"
     ]
    }
   ],
   "source": [
    "# Checking Even or Odd:\n",
    "\n",
    "num=int(input(\"Enter the number: \"))\n",
    "if num%2==0:\n",
    "    print(\"Number is Even\")\n",
    "else:\n",
    "    print(\"Number is Odd\")"
   ]
  },
  {
   "cell_type": "code",
   "execution_count": 75,
   "id": "488391b9",
   "metadata": {},
   "outputs": [
    {
     "name": "stdout",
     "output_type": "stream",
     "text": [
      "Enter the number: -9\n",
      "Number is Negetive\n"
     ]
    }
   ],
   "source": [
    "# Checking Positive,Negetive or Zero:\n",
    "\n",
    "num=int(input(\"Enter the number: \"))\n",
    "if num==0:\n",
    "    print(\"Number is zero!!\")\n",
    "elif num<0:\n",
    "    print(\"Number is Negetive\")\n",
    "else:\n",
    "    print(\"Number is Positive\")\n"
   ]
  },
  {
   "cell_type": "code",
   "execution_count": 76,
   "id": "7e07efc4",
   "metadata": {},
   "outputs": [
    {
     "name": "stdout",
     "output_type": "stream",
     "text": [
      "Enter the number: 5\n",
      "The Factorial for 5 is 120\n"
     ]
    }
   ],
   "source": [
    "# Factorial of a number:\n",
    "\n",
    "num=int(input(\"Enter the number: \"))\n",
    "Factorial=1\n",
    "if num<0:\n",
    "    print(\"This is negetive number!! \\nFactorial does not exist for Negetive numbers\")\n",
    "elif num==0:\n",
    "    print(\"The Factorial for 0 is 1\")\n",
    "else:\n",
    "    for i in range (1,num+1):\n",
    "        Factorial=Factorial*i\n",
    "    print(\"The Factorial for\",num, \"is\",Factorial)\n",
    "    "
   ]
  },
  {
   "cell_type": "code",
   "execution_count": 77,
   "id": "f9bfcedd",
   "metadata": {},
   "outputs": [
    {
     "name": "stdout",
     "output_type": "stream",
     "text": [
      "Enter the Number: 367\n",
      "Reverge of the given Number is: 763\n"
     ]
    }
   ],
   "source": [
    "# Reversing a number:\n",
    "\n",
    "num=int(input(\"Enter the Number: \"))\n",
    "rev=0\n",
    "while (num>0):\n",
    "    dig=num%10\n",
    "    rev=rev*10+dig\n",
    "    num=num//10\n",
    "print(\"Reverge of the given Number is:\",rev)"
   ]
  },
  {
   "cell_type": "code",
   "execution_count": 78,
   "id": "137bae17",
   "metadata": {},
   "outputs": [
    {
     "name": "stdout",
     "output_type": "stream",
     "text": [
      "Enter the Number: 1234321\n",
      "The number is Palindrome\n"
     ]
    }
   ],
   "source": [
    "# Checking the number is Palindrome:\n",
    "\n",
    "num=int(input(\"Enter the Number: \"))\n",
    "rev=0\n",
    "temp=num\n",
    "while (num>0):\n",
    "    dig=num%10\n",
    "    rev=rev*10+dig\n",
    "    num=num//10\n",
    "if (temp==rev):\n",
    "    print('The number is Palindrome')\n",
    "else:\n",
    "    print('The number is not Palindrome')"
   ]
  },
  {
   "cell_type": "code",
   "execution_count": 79,
   "id": "0ea18275",
   "metadata": {},
   "outputs": [
    {
     "name": "stdout",
     "output_type": "stream",
     "text": [
      "Enter the number: 7\n",
      "The Fibonacci value is 8\n"
     ]
    }
   ],
   "source": [
    "# Fibonacci upto n'th number:\n",
    "\n",
    "n=int(input(\"Enter the number: \"))\n",
    "a=0\n",
    "b=1\n",
    "\n",
    "if (n<0):\n",
    "    print(\"Wrong value\")\n",
    "elif (n==0):\n",
    "    print(a)\n",
    "elif (n==1):\n",
    "    print(a)\n",
    "else:\n",
    "    for i in range (2,n):\n",
    "            c=a+b\n",
    "            a=b \n",
    "            b=c\n",
    "    print(\"The Fibonacci value is\",b)\n",
    "    "
   ]
  },
  {
   "cell_type": "markdown",
   "id": "28a40219",
   "metadata": {},
   "source": [
    "## Python Functios:"
   ]
  },
  {
   "cell_type": "code",
   "execution_count": 80,
   "id": "d43731b0",
   "metadata": {},
   "outputs": [
    {
     "name": "stdout",
     "output_type": "stream",
     "text": [
      "Hello world\n"
     ]
    }
   ],
   "source": [
    "# Printing Hello world using funcion:\n",
    "\n",
    "def hello():\n",
    "    print(\"Hello world\")\n",
    "    \n",
    "hello()"
   ]
  },
  {
   "cell_type": "code",
   "execution_count": 81,
   "id": "3735c235",
   "metadata": {},
   "outputs": [
    {
     "name": "stdout",
     "output_type": "stream",
     "text": [
      "The number is Odd\n"
     ]
    }
   ],
   "source": [
    "# Checking number is Even or Odd using function:\n",
    "\n",
    "def even_odd(x):\n",
    "    if x%2==0:\n",
    "        print(\"The number is Even\")\n",
    "    else:\n",
    "        print(\"The number is Odd\")\n",
    "        \n",
    "even_odd(5)"
   ]
  },
  {
   "cell_type": "code",
   "execution_count": 82,
   "id": "b50e5abe",
   "metadata": {},
   "outputs": [
    {
     "name": "stdout",
     "output_type": "stream",
     "text": [
      "27\n"
     ]
    }
   ],
   "source": [
    "# lamba function:\n",
    "\n",
    "g=lambda x:x*x*x\n",
    "\n",
    "print(g(3))"
   ]
  },
  {
   "cell_type": "code",
   "execution_count": 83,
   "id": "af25c064",
   "metadata": {},
   "outputs": [
    {
     "ename": "TypeError",
     "evalue": "'list' object is not callable",
     "output_type": "error",
     "traceback": [
      "\u001b[1;31m---------------------------------------------------------------------------\u001b[0m",
      "\u001b[1;31mTypeError\u001b[0m                                 Traceback (most recent call last)",
      "\u001b[1;32m<ipython-input-83-e6dc1fd8e794>\u001b[0m in \u001b[0;36m<module>\u001b[1;34m\u001b[0m\n\u001b[0;32m      3\u001b[0m \u001b[0ml1\u001b[0m\u001b[1;33m=\u001b[0m\u001b[1;33m[\u001b[0m\u001b[1;36m2\u001b[0m\u001b[1;33m,\u001b[0m\u001b[1;36m3\u001b[0m\u001b[1;33m,\u001b[0m\u001b[1;36m6\u001b[0m\u001b[1;33m,\u001b[0m\u001b[1;36m8\u001b[0m\u001b[1;33m,\u001b[0m\u001b[1;36m10\u001b[0m\u001b[1;33m,\u001b[0m\u001b[1;36m11\u001b[0m\u001b[1;33m,\u001b[0m\u001b[1;36m15\u001b[0m\u001b[1;33m,\u001b[0m\u001b[1;36m18\u001b[0m\u001b[1;33m]\u001b[0m\u001b[1;33m\u001b[0m\u001b[1;33m\u001b[0m\u001b[0m\n\u001b[0;32m      4\u001b[0m \u001b[1;33m\u001b[0m\u001b[0m\n\u001b[1;32m----> 5\u001b[1;33m \u001b[0mfiltered_list\u001b[0m\u001b[1;33m=\u001b[0m\u001b[0mlist\u001b[0m\u001b[1;33m(\u001b[0m\u001b[0mfilter\u001b[0m\u001b[1;33m(\u001b[0m\u001b[1;32mlambda\u001b[0m \u001b[0mx\u001b[0m\u001b[1;33m:\u001b[0m\u001b[1;33m(\u001b[0m\u001b[0mx\u001b[0m\u001b[1;33m%\u001b[0m\u001b[1;36m2\u001b[0m\u001b[1;33m!=\u001b[0m\u001b[1;36m0\u001b[0m\u001b[1;33m)\u001b[0m\u001b[1;33m,\u001b[0m\u001b[0ml1\u001b[0m\u001b[1;33m)\u001b[0m\u001b[1;33m)\u001b[0m\u001b[1;33m\u001b[0m\u001b[1;33m\u001b[0m\u001b[0m\n\u001b[0m\u001b[0;32m      6\u001b[0m \u001b[1;33m\u001b[0m\u001b[0m\n\u001b[0;32m      7\u001b[0m \u001b[0mprint\u001b[0m\u001b[1;33m(\u001b[0m\u001b[0mfiltered_list\u001b[0m\u001b[1;33m)\u001b[0m\u001b[1;33m\u001b[0m\u001b[1;33m\u001b[0m\u001b[0m\n",
      "\u001b[1;31mTypeError\u001b[0m: 'list' object is not callable"
     ]
    }
   ],
   "source": [
    "# lamba function with filter:\n",
    "\n",
    "l1=[2,3,6,8,10,11,15,18]\n",
    "\n",
    "filtered_list=list(filter(lambda x:(x%2!=0),l1))\n",
    "\n",
    "print(filtered_list)"
   ]
  },
  {
   "cell_type": "code",
   "execution_count": null,
   "id": "b318234c",
   "metadata": {},
   "outputs": [],
   "source": [
    "# lamba function with map:\n",
    "\n",
    "l1=[2,3,6,8,10,11,15,18]\n",
    "\n",
    "mapped_list=list(map(lambda x:(x+100),l1))\n",
    "\n",
    "print(mapped_list)"
   ]
  },
  {
   "cell_type": "code",
   "execution_count": null,
   "id": "39614db4",
   "metadata": {},
   "outputs": [],
   "source": [
    "# lamba function with reduce:\n",
    "\n",
    "from functools import reduce\n",
    "\n",
    "l1=[2,3,6,8,10,11,15,18]\n",
    "\n",
    "reduced_list=reduce(lambda x,y:(x+y),l1)\n",
    "\n",
    "print(reduced_list)"
   ]
  },
  {
   "cell_type": "markdown",
   "id": "03ac9218",
   "metadata": {},
   "source": [
    "## Object Oriented Programming in Python:"
   ]
  },
  {
   "cell_type": "markdown",
   "id": "ccb30742",
   "metadata": {},
   "source": [
    "### Creating class,object and invoking functions:"
   ]
  },
  {
   "cell_type": "code",
   "execution_count": 88,
   "id": "28c7d96c",
   "metadata": {},
   "outputs": [],
   "source": [
    "# Creating a class named \"Phone\":\n",
    "\n",
    "class Phone:\n",
    "    def make_call(self):\n",
    "        print(\"Making a call!\")\n",
    "    def play_game(self):\n",
    "        print(\"Playing game!\")"
   ]
  },
  {
   "cell_type": "code",
   "execution_count": 89,
   "id": "2d0d3c60",
   "metadata": {},
   "outputs": [],
   "source": [
    "# Instantiating a object named \"P1\":\n",
    "\n",
    "p1=Phone()"
   ]
  },
  {
   "cell_type": "code",
   "execution_count": 90,
   "id": "4dd09354",
   "metadata": {},
   "outputs": [
    {
     "name": "stdout",
     "output_type": "stream",
     "text": [
      "Making a call!\n"
     ]
    }
   ],
   "source": [
    "# Invoking functions to object:\n",
    "\n",
    "p1.make_call()"
   ]
  },
  {
   "cell_type": "code",
   "execution_count": 91,
   "id": "5971a32c",
   "metadata": {},
   "outputs": [
    {
     "name": "stdout",
     "output_type": "stream",
     "text": [
      "Playing game!\n"
     ]
    }
   ],
   "source": [
    "p1.play_game()"
   ]
  },
  {
   "cell_type": "markdown",
   "id": "ed9882e0",
   "metadata": {},
   "source": [
    "### Adding parameters to the class:"
   ]
  },
  {
   "cell_type": "markdown",
   "id": "c6fde143",
   "metadata": {},
   "source": [
    "#### Setting & Returning the attribute values:"
   ]
  },
  {
   "cell_type": "code",
   "execution_count": 92,
   "id": "03c69fba",
   "metadata": {},
   "outputs": [],
   "source": [
    "class Phone:\n",
    "    def set_colour(self,colour):\n",
    "        self.colour=colour\n",
    "    def set_cost(self,cost):\n",
    "        self.cost=cost\n",
    "    def show_colour(self):\n",
    "        return self.colour\n",
    "    def show_cost(self):\n",
    "        return self.cost\n",
    "    "
   ]
  },
  {
   "cell_type": "code",
   "execution_count": 93,
   "id": "edf4dc11",
   "metadata": {},
   "outputs": [],
   "source": [
    "p1=Phone()"
   ]
  },
  {
   "cell_type": "code",
   "execution_count": 94,
   "id": "7c8c4acd",
   "metadata": {},
   "outputs": [],
   "source": [
    "p1.set_colour(\"Black\")"
   ]
  },
  {
   "cell_type": "code",
   "execution_count": 95,
   "id": "4c158f6c",
   "metadata": {},
   "outputs": [
    {
     "data": {
      "text/plain": [
       "'Black'"
      ]
     },
     "execution_count": 95,
     "metadata": {},
     "output_type": "execute_result"
    }
   ],
   "source": [
    "p1.show_colour()"
   ]
  },
  {
   "cell_type": "code",
   "execution_count": 96,
   "id": "1a1a0968",
   "metadata": {},
   "outputs": [],
   "source": [
    "p1.set_cost(25499)"
   ]
  },
  {
   "cell_type": "code",
   "execution_count": 97,
   "id": "3ef3d499",
   "metadata": {},
   "outputs": [
    {
     "data": {
      "text/plain": [
       "25499"
      ]
     },
     "execution_count": 97,
     "metadata": {},
     "output_type": "execute_result"
    }
   ],
   "source": [
    "p1.show_cost()"
   ]
  },
  {
   "cell_type": "markdown",
   "id": "203083aa",
   "metadata": {},
   "source": [
    "#### Creating a class with constructor:"
   ]
  },
  {
   "cell_type": "code",
   "execution_count": 98,
   "id": "fda40a70",
   "metadata": {},
   "outputs": [],
   "source": [
    "class Employee:\n",
    "    def __init__(self,Name,Gender,Age,Post):\n",
    "        self.Name=Name\n",
    "        self.Gender=Gender\n",
    "        self.Age=Age\n",
    "        self.Post=Post\n",
    "    def Employee_Details(self):\n",
    "        print(\"Name of the Employee is\",self.Name)\n",
    "        print(\"Gender is\",self.Gender)\n",
    "        print(\"Age is\",self.Age)\n",
    "        print(\"Post serving as\",self.Post)"
   ]
  },
  {
   "cell_type": "code",
   "execution_count": 99,
   "id": "40bb63f4",
   "metadata": {},
   "outputs": [],
   "source": [
    "E1=Employee(\"Ravi\",\"Male\",26,\"Senior Developer\")"
   ]
  },
  {
   "cell_type": "code",
   "execution_count": 100,
   "id": "7000e055",
   "metadata": {},
   "outputs": [
    {
     "name": "stdout",
     "output_type": "stream",
     "text": [
      "Name of the Employee is Ravi\n",
      "Gender is Male\n",
      "Age is 26\n",
      "Post serving as Senior Developer\n"
     ]
    }
   ],
   "source": [
    "E1.Employee_Details()"
   ]
  },
  {
   "cell_type": "markdown",
   "id": "cac98bf4",
   "metadata": {},
   "source": [
    "### Inheritance in Python:"
   ]
  },
  {
   "cell_type": "code",
   "execution_count": 101,
   "id": "1f2108eb",
   "metadata": {},
   "outputs": [],
   "source": [
    "# Creating a base Class:\n",
    "\n",
    "class Vehical:\n",
    "    def __init__(self,milage,cost):\n",
    "        self.milage=milage\n",
    "        self.cost=cost\n",
    "    def show_details(self):\n",
    "        print(\"I am a Vehical!\")\n",
    "        print(\"Milage of the Vehical is\",self.milage)\n",
    "        print(\"Cost of the Vehical is\",self.cost)"
   ]
  },
  {
   "cell_type": "code",
   "execution_count": 102,
   "id": "ed7436a4",
   "metadata": {},
   "outputs": [],
   "source": [
    "# Instantiating object for base class:\n",
    "\n",
    "V1=Vehical(30,50000)"
   ]
  },
  {
   "cell_type": "code",
   "execution_count": 103,
   "id": "e03ff4b7",
   "metadata": {},
   "outputs": [
    {
     "name": "stdout",
     "output_type": "stream",
     "text": [
      "I am a Vehical!\n",
      "Milage of the Vehical is 30\n",
      "Cost of the Vehical is 50000\n"
     ]
    }
   ],
   "source": [
    "V1.show_details()"
   ]
  },
  {
   "cell_type": "code",
   "execution_count": 104,
   "id": "a3968653",
   "metadata": {},
   "outputs": [],
   "source": [
    "# Creating a child class:\n",
    "\n",
    "class Car(Vehical):\n",
    "    def show_car(self):\n",
    "        print(\"I am a car!\")"
   ]
  },
  {
   "cell_type": "code",
   "execution_count": 105,
   "id": "ec7a48c2",
   "metadata": {},
   "outputs": [],
   "source": [
    "C1=Car(20,60000)"
   ]
  },
  {
   "cell_type": "code",
   "execution_count": 106,
   "id": "964b59aa",
   "metadata": {},
   "outputs": [
    {
     "name": "stdout",
     "output_type": "stream",
     "text": [
      "I am a Vehical!\n",
      "Milage of the Vehical is 20\n",
      "Cost of the Vehical is 60000\n"
     ]
    }
   ],
   "source": [
    "C1.show_details()"
   ]
  },
  {
   "cell_type": "code",
   "execution_count": 107,
   "id": "a3aff301",
   "metadata": {},
   "outputs": [
    {
     "name": "stdout",
     "output_type": "stream",
     "text": [
      "I am a car!\n"
     ]
    }
   ],
   "source": [
    "C1.show_car()"
   ]
  },
  {
   "cell_type": "code",
   "execution_count": 108,
   "id": "28e2771f",
   "metadata": {},
   "outputs": [],
   "source": [
    "# Over-riding init method:\n",
    "\n",
    "class Bike(Vehical):\n",
    "    def __init__(self,milage,cost,HP,tyres):\n",
    "        super().__init__(milage,cost)\n",
    "        self.HP=HP\n",
    "        self.tyres=tyres\n",
    "    def show_bike(self):\n",
    "        print(\"I am a Bike!\")\n",
    "        print(\"The HP of the Bike is\",self.HP)\n",
    "        print(\"Number of tyres is\",self.tyres)"
   ]
  },
  {
   "cell_type": "code",
   "execution_count": 109,
   "id": "8ddd5c81",
   "metadata": {},
   "outputs": [],
   "source": [
    "B1=Bike(45,25000,200,2)"
   ]
  },
  {
   "cell_type": "code",
   "execution_count": 110,
   "id": "dea65040",
   "metadata": {},
   "outputs": [
    {
     "name": "stdout",
     "output_type": "stream",
     "text": [
      "I am a Vehical!\n",
      "Milage of the Vehical is 45\n",
      "Cost of the Vehical is 25000\n"
     ]
    }
   ],
   "source": [
    "B1.show_details()"
   ]
  },
  {
   "cell_type": "code",
   "execution_count": 111,
   "id": "8be4b33a",
   "metadata": {},
   "outputs": [
    {
     "name": "stdout",
     "output_type": "stream",
     "text": [
      "I am a Bike!\n",
      "The HP of the Bike is 200\n",
      "Number of tyres is 2\n"
     ]
    }
   ],
   "source": [
    "B1.show_bike()"
   ]
  },
  {
   "cell_type": "markdown",
   "id": "ba6efed5",
   "metadata": {},
   "source": [
    "#### Multiple inheritance in Python:"
   ]
  },
  {
   "cell_type": "code",
   "execution_count": 112,
   "id": "1c7cad22",
   "metadata": {},
   "outputs": [],
   "source": [
    "class Parent1:\n",
    "    def assign_string1(self,str1):\n",
    "        self.str1=str1\n",
    "    def show_string1(self):\n",
    "        return self.str1"
   ]
  },
  {
   "cell_type": "code",
   "execution_count": 113,
   "id": "16609758",
   "metadata": {},
   "outputs": [],
   "source": [
    "class Parent2:\n",
    "    def assign_string2(self,str2):\n",
    "        self.str2=str2\n",
    "    def show_string2(self):\n",
    "        return self.str2"
   ]
  },
  {
   "cell_type": "code",
   "execution_count": 114,
   "id": "bbe346c7",
   "metadata": {},
   "outputs": [],
   "source": [
    "class Child(Parent1,Parent2):\n",
    "    def assign_string3(self,str3):\n",
    "        self.str3=str3\n",
    "    def show_string3(self):\n",
    "        return self.str3"
   ]
  },
  {
   "cell_type": "code",
   "execution_count": 115,
   "id": "faa46fb7",
   "metadata": {},
   "outputs": [],
   "source": [
    "c1=Child()"
   ]
  },
  {
   "cell_type": "code",
   "execution_count": 116,
   "id": "89eac4be",
   "metadata": {},
   "outputs": [],
   "source": [
    "c1.assign_string1(\"One\")\n",
    "c1.assign_string2(\"Two\")\n",
    "c1.assign_string3(\"Three\")"
   ]
  },
  {
   "cell_type": "code",
   "execution_count": 117,
   "id": "6902a7cc",
   "metadata": {},
   "outputs": [
    {
     "data": {
      "text/plain": [
       "'One'"
      ]
     },
     "execution_count": 117,
     "metadata": {},
     "output_type": "execute_result"
    }
   ],
   "source": [
    "c1.show_string1()"
   ]
  },
  {
   "cell_type": "code",
   "execution_count": 118,
   "id": "17dfaee0",
   "metadata": {},
   "outputs": [
    {
     "data": {
      "text/plain": [
       "'Two'"
      ]
     },
     "execution_count": 118,
     "metadata": {},
     "output_type": "execute_result"
    }
   ],
   "source": [
    "c1.show_string2()"
   ]
  },
  {
   "cell_type": "code",
   "execution_count": 119,
   "id": "0d4b961a",
   "metadata": {},
   "outputs": [
    {
     "data": {
      "text/plain": [
       "'Three'"
      ]
     },
     "execution_count": 119,
     "metadata": {},
     "output_type": "execute_result"
    }
   ],
   "source": [
    "c1.show_string3()"
   ]
  },
  {
   "cell_type": "markdown",
   "id": "d0074810",
   "metadata": {},
   "source": [
    "#### Multi-stage inheritance in Python:"
   ]
  },
  {
   "cell_type": "code",
   "execution_count": 120,
   "id": "cee47f71",
   "metadata": {},
   "outputs": [],
   "source": [
    "class Parent:\n",
    "    def assign_name(self,name):\n",
    "        self.name=name\n",
    "    def show_name(self):\n",
    "        return self.name\n",
    "    \n",
    "class Child(Parent):\n",
    "    def assign_age(self,age):\n",
    "        self.age=age\n",
    "    def show_age(self):\n",
    "        return self.age\n",
    "    \n",
    "class Grandchild(Child):\n",
    "    def assign_gender(self,gender):\n",
    "        self.gender=gender\n",
    "    def show_gender(self):\n",
    "        return self.gender"
   ]
  },
  {
   "cell_type": "code",
   "execution_count": 121,
   "id": "2653bba4",
   "metadata": {},
   "outputs": [],
   "source": [
    "A1=Grandchild()"
   ]
  },
  {
   "cell_type": "code",
   "execution_count": 122,
   "id": "e0cce658",
   "metadata": {},
   "outputs": [],
   "source": [
    "A1.assign_name(\"Arun\")\n",
    "A1.assign_age(12)\n",
    "A1.assign_gender(\"Male\")"
   ]
  },
  {
   "cell_type": "code",
   "execution_count": 123,
   "id": "4d665f40",
   "metadata": {},
   "outputs": [
    {
     "data": {
      "text/plain": [
       "'Arun'"
      ]
     },
     "execution_count": 123,
     "metadata": {},
     "output_type": "execute_result"
    }
   ],
   "source": [
    "A1.show_name()"
   ]
  },
  {
   "cell_type": "code",
   "execution_count": 124,
   "id": "1a72beb6",
   "metadata": {},
   "outputs": [
    {
     "data": {
      "text/plain": [
       "12"
      ]
     },
     "execution_count": 124,
     "metadata": {},
     "output_type": "execute_result"
    }
   ],
   "source": [
    "A1.show_age()"
   ]
  },
  {
   "cell_type": "code",
   "execution_count": 125,
   "id": "a27f3ac0",
   "metadata": {},
   "outputs": [
    {
     "data": {
      "text/plain": [
       "'Male'"
      ]
     },
     "execution_count": 125,
     "metadata": {},
     "output_type": "execute_result"
    }
   ],
   "source": [
    "A1.show_gender()"
   ]
  },
  {
   "cell_type": "code",
   "execution_count": null,
   "id": "8965d642",
   "metadata": {},
   "outputs": [],
   "source": []
  }
 ],
 "metadata": {
  "kernelspec": {
   "display_name": "Python 3",
   "language": "python",
   "name": "python3"
  },
  "language_info": {
   "codemirror_mode": {
    "name": "ipython",
    "version": 3
   },
   "file_extension": ".py",
   "mimetype": "text/x-python",
   "name": "python",
   "nbconvert_exporter": "python",
   "pygments_lexer": "ipython3",
   "version": "3.8.8"
  }
 },
 "nbformat": 4,
 "nbformat_minor": 5
}
